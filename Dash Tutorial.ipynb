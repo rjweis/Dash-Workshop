{
 "cells": [
  {
   "cell_type": "markdown",
   "metadata": {},
   "source": [
    "# Dash Workshop: Dash Tutorial "
   ]
  },
  {
   "cell_type": "markdown",
   "metadata": {},
   "source": [
    "## Ensure you have the latest version of Dash \n",
    "\n",
    "Open up Anaconda Prompt and type in `pip install --upgrade dash`.\n",
    "\n",
    "Within jupyter notebook, use `print(dash.__version__)` to see the version you have. "
   ]
  },
  {
   "cell_type": "markdown",
   "metadata": {},
   "source": [
    "## Initializing and running the app\n",
    "\n",
    "Initialize the dash app with\n",
    "\n",
    "```Python\n",
    "app = dash.Dash()\n",
    "```\n",
    "\n",
    "To run the app, call `app.run_server()` and pass `debug = False` as one of the arguments. **Be sure to specify your OWN port number** as an argument as well. \n",
    "\n",
    "```Python \n",
    "app.run_server(debug = False, port = xxxx)\n",
    "```"
   ]
  },
  {
   "attachments": {
    "no%20server%20link.PNG": {
     "image/png": "[encoded data removed]"
    },
    "server%20link.PNG": {
     "image/png": "[encoded data removed]"
    }
   },
   "cell_type": "markdown",
   "metadata": {},
   "source": [
    "## Troubleshooting and Debugging \n",
    "\n",
    "If your code is raising errors, make sure that letters are capitalized when needed. For example, `dcc.div()` won't work, but `dcc.Div()` will. Also check for commas, parentheses, and brackets.\n",
    "\n",
    "Make sure that `debug` is set to `False` in `app.run_server`!\n",
    "\n",
    "If you run your code and you receive the following output without any link going to your app\n",
    "\n",
    "![no%20server%20link.PNG](attachment:no%20server%20link.PNG)\n",
    "\n",
    "restart your kernel and try running the code again. That should do the trick and you should see something like this:\n",
    "\n",
    "![server%20link.PNG](attachment:server%20link.PNG)"
   ]
  },
  {
   "cell_type": "markdown",
   "metadata": {},
   "source": [
    "# Overview\n",
    "\n",
    "An app made with the Dash module consists of a **layout** and **reactivity**. We'll begin with the app layout."
   ]
  },
  {
   "cell_type": "markdown",
   "metadata": {},
   "source": [
    "## Layout\n",
    "\n",
    "Begin by importing the following modules. Every feature of our app will likely depend on each of these modules and libraries.\n",
    "\n",
    "```Python\n",
    "import dash \n",
    "from dash.dependencies import Input, Output, State\n",
    "from dash import no_update\n",
    "import dash_html_components as html \n",
    "import dash_core_components as dcc \n",
    "import dash_table\n",
    "import plotly\n",
    "import plotly.graph_objects as go\n",
    "import pandas as pd\n",
    "```"
   ]
  },
  {
   "cell_type": "markdown",
   "metadata": {},
   "source": [
    "### Dash HTML Components"
   ]
  },
  {
   "cell_type": "markdown",
   "metadata": {},
   "source": [
    "#### html.Div() Definition\n",
    "\n",
    "`html.Div()` is essentially a container. Its primary use is to help style different parts of your app, as well as to make your code easier to understand. It's also possible to add reactivity to a `html.Div()` object, but we'll look at that later.\n",
    "\n",
    "#### html.Div() Example\n",
    "\n",
    "The below examples demonstrate how `html.Div()` objects are used to style the contents within the container. "
   ]
  },
  {
   "cell_type": "code",
   "execution_count": null,
   "metadata": {},
   "outputs": [],
   "source": [
    "import dash \n",
    "from dash.dependencies import Input, Output, State\n",
    "from dash import no_update\n",
    "import dash_html_components as html \n",
    "import dash_core_components as dcc \n",
    "import dash_table\n",
    "import plotly\n",
    "import plotly.graph_objects as go\n",
    "import pandas as pd"
   ]
  },
  {
   "cell_type": "code",
   "execution_count": null,
   "metadata": {},
   "outputs": [],
   "source": [
    "app = dash.Dash()\n",
    "\n",
    "app.layout = html.Div([\n",
    "    \n",
    "        html.Div(\n",
    "            'This text will be formatted in one style', \n",
    "            style={'color': 'blue', 'fontSize': 14}\n",
    "        ),\n",
    "    \n",
    "        html.Div(\n",
    "            'This text will be formatted in a different style', \n",
    "            style={'color': 'black', 'fontSize': 28}\n",
    "        )\n",
    "    \n",
    "    ])\n",
    "\n",
    "app.run_server(debug = False, port = 8053)\n"
   ]
  },
  {
   "cell_type": "markdown",
   "metadata": {},
   "source": [
    "In the next example, we add a `style` property to the 'parent' `html.Div` container. Since the 'children' `html.Div` objects are located within this container, the `style` will be applied to both of them. \n",
    "\n",
    "Note that the `style` property is a *dictionary*. Many properties in the Dash 'language' are specified with dictionaries, so make sure you are understand how they work. "
   ]
  },
  {
   "cell_type": "code",
   "execution_count": null,
   "metadata": {
    "scrolled": true
   },
   "outputs": [],
   "source": [
    "app = dash.Dash()\n",
    "\n",
    "app.layout = html.Div([\n",
    "    \n",
    "        html.Div(\n",
    "            'This text will be formatted in one style', \n",
    "            style={'color': 'blue', 'fontSize': 14}\n",
    "        ),\n",
    "    \n",
    "        html.Div(\n",
    "            'This text will be formatted in a different style', \n",
    "            style={'color': 'black', 'fontSize': 28}\n",
    "        )\n",
    "    \n",
    "    ], \n",
    "    \n",
    "    style={'marginTop': 100, 'backgroundColor': 'green'} \n",
    "        # style will be applied to the outermost `html.Div()` container \n",
    "    \n",
    ")\n",
    "\n",
    "app.run_server(debug = False, port = 8053)"
   ]
  },
  {
   "cell_type": "markdown",
   "metadata": {},
   "source": [
    "#### Where to declare variables in your code, explicit vs implicit calls"
   ]
  },
  {
   "cell_type": "markdown",
   "metadata": {},
   "source": [
    "##### Where to declare variables in your code\n",
    "\n",
    "To extend the previous example, imagine we wanted to assign the strings to two variables and call those within our app. We need to do this **before** we begin defining the `app.layout`. \n",
    "\n",
    "The code below will **not** run because our new variables `string1` and `string2` are trying to be assigned within a `html.Div()` object. "
   ]
  },
  {
   "cell_type": "code",
   "execution_count": null,
   "metadata": {
    "code_folding": []
   },
   "outputs": [],
   "source": [
    "# code will throw syntax error\n",
    "\n",
    "app = dash.Dash()\n",
    "\n",
    "app.layout = html.Div([\n",
    "    \n",
    "        string1 = 'This text will be formatted in one style',\n",
    "        string2 = 'This text will be formatted in a different style',\n",
    "        \n",
    "        html.Div(\n",
    "            string1, \n",
    "            style={'color': 'blue', 'fontSize': 14}\n",
    "        ),\n",
    "    \n",
    "        html.Div(\n",
    "            string2, \n",
    "            style={'color': 'black', 'fontSize': 28}\n",
    "        )\n",
    "    \n",
    "    ])\n",
    "\n",
    "app.run_server(debug = False, port = 8053)"
   ]
  },
  {
   "cell_type": "markdown",
   "metadata": {},
   "source": [
    "The below code will function properly since we assign `string1` and `string2` before `app.layout`. Note that these variables can be defined before or after we initialize the app with `app = dash.Dash()`. In my opinion, though, it's good practice to define all variables and functions *before* calling `app = dash.Dash()`."
   ]
  },
  {
   "cell_type": "code",
   "execution_count": null,
   "metadata": {
    "code_folding": []
   },
   "outputs": [],
   "source": [
    "# variables correctly assigned before calling `app.layout`\n",
    "\n",
    "string1 = 'This text will be formatted in one style'\n",
    "string2 = 'This text will be formatted in a different style'\n",
    "lst = [string1, string2]\n",
    "\n",
    "app = dash.Dash()\n",
    "\n",
    "app.layout = html.Div([\n",
    "    \n",
    "        html.Div(\n",
    "            children = [string1, string2],\n",
    "            style={'color': 'blue', 'fontSize': 14}\n",
    "        )\n",
    "])\n",
    "\n",
    "app.run_server(debug = False, port = 8053)"
   ]
  },
  {
   "cell_type": "markdown",
   "metadata": {},
   "source": [
    "##### Calling `children` and `id`: explicit vs implicit calls"
   ]
  },
  {
   "cell_type": "markdown",
   "metadata": {},
   "source": [
    "So far, we have been calling the `children` argument of `html.Div()` implicitly. This argument can be called both **implicitly** and **explicitly**. "
   ]
  },
  {
   "cell_type": "code",
   "execution_count": null,
   "metadata": {
    "code_folding": [],
    "scrolled": true
   },
   "outputs": [],
   "source": [
    "# adding `children` in our code won't change anything to the resulting dashboard, \n",
    "# because even when we omitted it before, we were still calling it implicity\n",
    "\n",
    "string1 = 'This text will be formatted in one style'\n",
    "string2 = 'This text will be formatted in a different style'\n",
    "\n",
    "app = dash.Dash()\n",
    "\n",
    "app.layout = html.Div(children = [\n",
    "    \n",
    "        html.Div(\n",
    "            children = string1, \n",
    "            style={'color': 'blue', 'fontSize': 14}\n",
    "        ),\n",
    "    \n",
    "        html.Div(\n",
    "            children = string2, \n",
    "            style={'color': 'black', 'fontSize': 28}\n",
    "        )\n",
    "    \n",
    "    ])\n",
    "\n",
    "app.run_server(debug = False, port = 8053)"
   ]
  },
  {
   "cell_type": "markdown",
   "metadata": {},
   "source": [
    "If we want *all* the contents of an `html.Div()` object to be reactive and change with user input, then we will need give an id by passing `id = any_name_here`.\n",
    "\n",
    "If you decide to pass `id = ` into your `html.Div()` object, then **`id` must be explicitly called.** The code will break otherwise. "
   ]
  },
  {
   "cell_type": "code",
   "execution_count": null,
   "metadata": {
    "code_folding": []
   },
   "outputs": [],
   "source": [
    "# adding `id` to our code won't change anything either, because it's an optional argument to pass into html.Div()\n",
    "# (HOWEVER, adding `id` becomes important when we want the contents of html.Div() to respond to user input)\n",
    "\n",
    "string1 = 'This text will be formatted in one style'\n",
    "string2 = 'This text will be formatted in a different style'\n",
    "\n",
    "app = dash.Dash()\n",
    "\n",
    "app.layout = html.Div(id = 'parent', children = [ # explicit id call\n",
    "    \n",
    "        html.Div(\n",
    "            id = 'child 1', # explicit id call\n",
    "            children = string1, \n",
    "            style={'color': 'blue', 'fontSize': 14}\n",
    "        ),\n",
    "    \n",
    "        html.Div(\n",
    "            id = 'child 2', # explicit id call\n",
    "            children = string2, \n",
    "            style={'color': 'black', 'fontSize': 28}\n",
    "        )\n",
    "    \n",
    "    ])\n",
    "\n",
    "app.run_server(debug = False, port = 8053)"
   ]
  },
  {
   "cell_type": "code",
   "execution_count": null,
   "metadata": {
    "code_folding": [
     0
    ]
   },
   "outputs": [],
   "source": [
    "# code won't run if we try to implicitly call `id`\n",
    "\n",
    "string1 = 'This text will be formatted in one style'\n",
    "string2 = 'This text will be formatted in a different style'\n",
    "\n",
    "app = dash.Dash()\n",
    "\n",
    "app.layout = html.Div(id = 'parent', children = [\n",
    "    \n",
    "        html.Div(\n",
    "            'child 1', # implicit id call \n",
    "            children = string1, \n",
    "            style={'color': 'blue', 'fontSize': 14}\n",
    "        ),\n",
    "    \n",
    "        html.Div(\n",
    "            'child 2', # implicit id call \n",
    "            children = string2, \n",
    "            style={'color': 'black', 'fontSize': 28}\n",
    "        )\n",
    "    \n",
    "    ])\n",
    "\n",
    "app.run_server(debug = False, port = 8053)"
   ]
  },
  {
   "cell_type": "markdown",
   "metadata": {},
   "source": [
    "### Dash Core Components: Adding Features to the Dashboard"
   ]
  },
  {
   "cell_type": "markdown",
   "metadata": {},
   "source": [
    "#### Overview\n",
    "\n",
    "Core components are the features of the dashboard. These are the things the user could interact with. Think dropdowns, graphs, buttons, sliders, filters, etc. A list of all the currently available core components can be found here: [Dash Core Components](https://dash.plot.ly/dash-core-components).\n",
    "\n",
    "All core components will begin with `dcc.name_of_dropdown_here()`. The arguments passed inside will define the component, which are sometimes called **properties**. Since our app will have several components, they all will be contained in a parent `html.Div()` container."
   ]
  },
  {
   "cell_type": "markdown",
   "metadata": {},
   "source": [
    "#### Example: `dcc.Dropdown()`"
   ]
  },
  {
   "cell_type": "code",
   "execution_count": null,
   "metadata": {},
   "outputs": [],
   "source": [
    "app = dash.Dash()\n",
    "\n",
    "app.layout = html.Div([\n",
    "    \n",
    "    \"Here is a dropdown. Ain't it purty?\",\n",
    "    \n",
    "    dcc.Dropdown(\n",
    "        options=[\n",
    "            {'label': 'Dr. Rappa', 'value': 'MR'}, # notice that the label is what the user sees, not the value\n",
    "            {'label': 'Mannyy', 'value': 'MD'},\n",
    "            {'label': 'Urmila', 'value': 'USP'}\n",
    "        ], \n",
    "        multi = True,\n",
    "        placeholder = 'choose a name'\n",
    "    )\n",
    "    \n",
    "])\n",
    "\n",
    "app.run_server(debug = False, port = 8053)"
   ]
  },
  {
   "cell_type": "markdown",
   "metadata": {},
   "source": [
    "(Tehcnically, a `html.Div()` isn't needed if our app only contains one component.)"
   ]
  },
  {
   "cell_type": "code",
   "execution_count": null,
   "metadata": {
    "code_folding": [
     0
    ]
   },
   "outputs": [],
   "source": [
    "# notice that if our app only contains one component, we don't need a html.Div() container\n",
    "\n",
    "app = dash.Dash()\n",
    "\n",
    "app.layout = dcc.Dropdown(\n",
    "    options=[\n",
    "        {'label': 'New York City', 'value': 'NYC'},\n",
    "        {'label': 'Montréal', 'value': 'MTL'},\n",
    "        {'label': 'San Francisco', 'value': 'SF'}\n",
    "    ],\n",
    "    value='MTL'\n",
    "    )  \n",
    "\n",
    "app.run_server(debug = False, port = 8053)\n"
   ]
  },
  {
   "cell_type": "markdown",
   "metadata": {},
   "source": [
    "Let's add another dropdown and explore other properties. We can use the `help()` function to view the documentation inside a cell."
   ]
  },
  {
   "cell_type": "code",
   "execution_count": null,
   "metadata": {},
   "outputs": [],
   "source": [
    "help(dcc.Dropdown())"
   ]
  },
  {
   "cell_type": "markdown",
   "metadata": {},
   "source": [
    "Let's add another dropdown and add the `multi` property so that the user can specify multiple inputs."
   ]
  },
  {
   "cell_type": "code",
   "execution_count": null,
   "metadata": {},
   "outputs": [],
   "source": [
    "app = dash.Dash()\n",
    "\n",
    "app.layout = html.Div([\n",
    "    \n",
    "    \"Here is a dropdown. Ain't it purty?\",\n",
    "    \n",
    "    dcc.Dropdown(id = 'dropdown_1',\n",
    "        options=[\n",
    "            {'label': 'Dr. Rappa', 'value': 'MR'}, \n",
    "            {'label': 'Mannyy', 'value': 'MD'},\n",
    "            {'label': 'Urmila', 'value': 'USP'}\n",
    "        ],\n",
    "        value='MD' # specifies the default value when the app is launched\n",
    "    ),\n",
    "    \n",
    "    \"Here is another dropdown.\",\n",
    "    \n",
    "    dcc.Dropdown(id = 'dropdown_2',\n",
    "        options = [\n",
    "            {'label': num, 'value': num} for num in range(0, 10, 2) # define labels and values with list comp\n",
    "        ],\n",
    "        value = None,\n",
    "        multi = True,\n",
    "    )\n",
    "    \n",
    "])\n",
    "\n",
    "app.run_server(debug = False, port = 8053)"
   ]
  },
  {
   "cell_type": "markdown",
   "metadata": {},
   "source": [
    "#### Practice problem: `dcc.Dropdown()`\n",
    "\n",
    "Make an app that has a dropdown with the list of first and last names that are provided below. Use the last names as the labels and the first names as the values. (Hint: the `split` function might be useful for solving this problem). \n",
    "\n",
    "Design the app such that the following placeholder is displayed in the search bar: `'Search here to view the Project Asurion team roster.'`(Hint: use `help(dcc.Dropdown())` to figure out what property you need to specify)\n",
    "\n",
    "```Python\n",
    "names = ['Lu Woo', 'Urmila Paddle', 'Mannyy Daramoli', 'Kevin Lybranflakes', 'Ryan Weezer']\n",
    "```"
   ]
  },
  {
   "cell_type": "code",
   "execution_count": null,
   "metadata": {},
   "outputs": [],
   "source": [
    "names = ['Lu Woo', 'Urmila Paddle', 'Mannyy Daramoli', 'Kevin Lybranflakes', 'Ryan Weezer']\n",
    "\n",
    "split_names = [name.split(' ') for name in names]\n",
    "\n",
    "app = dash.Dash()\n",
    "\n",
    "app.layout = html.Div(\n",
    "    \n",
    "    dcc.Dropdown(\n",
    "        options = [{'label': name[1], 'value': name[0]} for name in split_names],\n",
    "        placeholder = 'Search here to view the Project Asurion team roster.'\n",
    "    )\n",
    ")\n",
    "\n",
    "app.run_server(debug = False, port = 8053)"
   ]
  },
  {
   "cell_type": "markdown",
   "metadata": {},
   "source": [
    "#### Example: `dcc.Graph()`\n",
    "\n",
    "Use the Plotly module to make interactive graphs in Dash. Other approaches may work, but I've found using Plotly to be the most straightforward. I recommend making and assigning the graph to a variable before calling it in your app. \n",
    "\n",
    "\n",
    "[List of all graphs with Plotly](https://plot.ly/python/?_ga=2.111287309.863351121.1583771864-1888264854.1583346242)\n",
    "\n",
    "\n",
    "[Dash: Graph Examples and Reference](https://dash.plot.ly/dash-core-components/graph)"
   ]
  },
  {
   "cell_type": "code",
   "execution_count": null,
   "metadata": {
    "scrolled": true
   },
   "outputs": [],
   "source": [
    "import math\n",
    "import numpy as np\n",
    "\n",
    "x = np.linspace(start = 0, stop = 25, num = 100)\n",
    "y = [math.sin(num) for num in x]\n",
    "\n",
    "fig = go.Figure(data = go.Scatter(x = x, y = y))\n",
    "\n",
    "app = dash.Dash()\n",
    "\n",
    "app.layout = html.Div(\n",
    "\n",
    "    dcc.Graph(figure = fig)\n",
    "\n",
    ")\n",
    "\n",
    "app.run_server(debug = False, port = 8053)"
   ]
  },
  {
   "cell_type": "markdown",
   "metadata": {},
   "source": [
    "#### Practice problem: `dcc.Graph()`\n",
    "\n",
    "Make a horizontal bar chart using the following data:\n",
    "\n",
    "```Python\n",
    "values = [54, 95, 66, 80, 71]\n",
    "labels = ['Race', 'LaBarr', 'Healey', 'Rappa', 'Villanes']\n",
    "```\n",
    "\n",
    "Hint: After defining and assigning your graph to a variable, use `fig.update_layout(yaxis={'type': 'category'}`"
   ]
  },
  {
   "cell_type": "code",
   "execution_count": null,
   "metadata": {},
   "outputs": [],
   "source": [
    "import plotly.graph_objects as go\n",
    "\n",
    "values = [54, 95, 66, 80, 71]\n",
    "labels = ['Race', 'LaBarr', 'Healey', 'Rappa', 'Villanes']\n",
    "\n",
    "fig = go.Figure(data = go.Bar(x = values, y = labels, orientation = 'h'))\n",
    "fig.update_layout(yaxis = {'type': 'category'}, title = 'Bar Chart')\n",
    "\n",
    "app = dash.Dash()\n",
    "\n",
    "app.layout = html.Div(\n",
    "\n",
    "    dcc.Graph(figure = fig)\n",
    "    \n",
    ")\n",
    "\n",
    "app.run_server(debug = False, port = 8053)"
   ]
  },
  {
   "cell_type": "markdown",
   "metadata": {},
   "source": [
    "## Reactivity"
   ]
  },
  {
   "cell_type": "markdown",
   "metadata": {},
   "source": [
    "Let's make an app that allows the user to alter an observation's value."
   ]
  },
  {
   "cell_type": "code",
   "execution_count": null,
   "metadata": {},
   "outputs": [],
   "source": [
    "app = dash.Dash()\n",
    "\n",
    "values = [54, 95, 66, 80, 71]\n",
    "labels = ['Race', 'LaBarr', 'Healey', 'Rappa', 'Villanes']\n",
    "\n",
    "fig = go.Figure(data = go.Bar(x = values, y = labels, orientation = 'h'))\n",
    "fig.update_layout(yaxis = {'type': 'category'}, title = 'Bar Chart')\n",
    "\n",
    "app.layout = html.Div([\n",
    "\n",
    "    dcc.Input(id = 'input_value',\n",
    "        placeholder = 'Input score to be added here',\n",
    "        type = 'number', \n",
    "        value = 0\n",
    "    ),\n",
    "    \n",
    "    dcc.Dropdown(id = 'name_dropdown',\n",
    "        placeholder = 'Choose a professor whose score you want to modify',\n",
    "        options = [{'label': name, 'value': name} for name in labels],\n",
    "        value = ''\n",
    "                \n",
    "    ),\n",
    "    \n",
    "    dcc.Graph(id = 'bar_chart',\n",
    "        figure = fig\n",
    "    )\n",
    "    \n",
    "])\n",
    "\n",
    "@app.callback(\n",
    "     dash.dependencies.Output('bar_chart', 'figure'),\n",
    "     [dash.dependencies.Input('input_value', 'value'),\n",
    "      dash.dependencies.Input('name_dropdown', 'value')]\n",
    ")\n",
    "\n",
    "def update_graph(input_value, name_dropdown):\n",
    "        \n",
    "    data = {name : score for name, score in zip(labels, values)} # looping through two lists at once with zip()\n",
    "        \n",
    "    if input_value is not None:\n",
    "        for key in data:\n",
    "            if key == name_dropdown:\n",
    "                data[key] = data[key] + input_value\n",
    "                \n",
    "    new_x = [data[key] for key in data]\n",
    "        \n",
    "    graph = go.Figure(data = go.Bar(x = new_x, y = labels, orientation = 'h'))\n",
    "    \n",
    "    return(graph)\n",
    "\n",
    "app.run_server(debug = False, port = 8053)"
   ]
  },
  {
   "cell_type": "code",
   "execution_count": null,
   "metadata": {
    "code_folding": [
     0
    ]
   },
   "outputs": [],
   "source": [
    "# here is how zip works if you are curious\n",
    "\n",
    "values = [54, 95, 66, 80, 71]\n",
    "labels = ['Race', 'LaBarr', 'Healey', 'Rappa', 'Villanes']\n",
    "\n",
    "data = {name : score for name, score in zip(labels, values)}\n",
    "\n",
    "print(data)"
   ]
  },
  {
   "cell_type": "markdown",
   "metadata": {},
   "source": [
    "### Reactivity Practice Problems\n",
    "\n",
    "Problem 1:\n",
    "- Make a dashboard that plots a histogram of a normal distribution. The dashboard responds to three user inputs: average, standard deviation, and sample size. Use the following default values: 0 for the average, 1 for the standard deviation, and 100 for the sample size. (Hint: use `go.Histogram()` and `np.random.normal(mu, sigma, n)` to generate your x values)\n",
    "\n",
    "Problem 2:\n",
    "- Continuing with the previous `values` and `labels` data, make a dashboard that allows the user to display (via bar chart) the names whose score meets a minimum threshold (i.e., >60, >70, >80, etc.)"
   ]
  }
 ],
 "metadata": {
  "kernelspec": {
   "display_name": "Python 3",
   "language": "python",
   "name": "python3"
  },
  "language_info": {
   "codemirror_mode": {
    "name": "ipython",
    "version": 3
   },
   "file_extension": ".py",
   "mimetype": "text/x-python",
   "name": "python",
   "nbconvert_exporter": "python",
   "pygments_lexer": "ipython3",
   "version": "3.7.6"
  },
  "toc": {
   "base_numbering": 1,
   "nav_menu": {},
   "number_sections": false,
   "sideBar": true,
   "skip_h1_title": false,
   "title_cell": "Table of Contents",
   "title_sidebar": "Contents",
   "toc_cell": false,
   "toc_position": {
    "height": "calc(100% - 180px)",
    "left": "10px",
    "top": "150px",
    "width": "256px"
   },
   "toc_section_display": true,
   "toc_window_display": false
  }
 },
 "nbformat": 4,
 "nbformat_minor": 4
}
