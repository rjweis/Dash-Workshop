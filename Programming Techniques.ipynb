{
 "cells": [
  {
   "cell_type": "markdown",
   "metadata": {},
   "source": [
    "# Dash Workshop: Essential Programming Techniques"
   ]
  },
  {
   "cell_type": "markdown",
   "metadata": {},
   "source": [
    "## Ensure you have the latest version of Dash \n",
    "\n",
    "Open up Anaconda Prompt and type in `pip install --upgrade dash`."
   ]
  },
  {
   "cell_type": "markdown",
   "metadata": {},
   "source": [
    "## Notebook Extensions\n",
    "\n",
    "Since there will be many lines of code within a single cell for our app, I recommend a few notebook extensions that will make your lives easier. \n",
    "\n",
    "1. **Hinterland** - Makes suggestions for autocompleting your code\n",
    "2. **Codefolding** - Collapse chunks of code (e.g., comments, functions) with a dropdown button \n",
    "3. **Toggle all line numbers** - Adds line numbers to each cell of your notebook (can be useful for debugging)\n",
    "4. **Table of Contents** - Makes navigating (organized) notebooks easier\n",
    "\n",
    "To get the jupyter notebook extensions, open up Anaconda Prompt and type `pip install jupyter_contrib_nbextensions`. Once installed, open up a notebook, go to the Edit tab, and then at the bottom click on **nbextensions config**. This will open up a separate tab in your browswer where you can enable a variety of extensions."
   ]
  },
  {
   "cell_type": "markdown",
   "metadata": {},
   "source": [
    "# Programming Techniques: List Comprehensions, Functions,  and Slicing\n",
    "### List Comphrensions: Overview\n",
    "List comprehensions are a way of writing a loop in one line of code. They are important to know for Dash because many online examples will use them."
   ]
  },
  {
   "cell_type": "markdown",
   "metadata": {},
   "source": [
    "We'll start with an example. Imagine you have a list of numbers, and you want to loop through them and append the square of each number. With a traditional loop, here is one way we could approach this:\n",
    "\n",
    "```Python \n",
    "numbers = [1, 2, 3, 4, 5]\n",
    "\n",
    "squares = []\n",
    "for num in numbers:\n",
    "    square = num*num \n",
    "    squares.append(square)\n",
    "```\n",
    "\n",
    "With a list comprehension, we can acheive the same result with code that is much more concise. It is also generally faster.\n",
    "\n",
    "```Python\n",
    "numbers = [1, 2, 3, 4, 5]\n",
    "\n",
    "squares = [num*num for num in numbers] \n",
    "```\n",
    "\n",
    "To use a list comprehension, you essentially write a traditional loop, but backwards. You begin with the the result you want, followed by what you're looping over. In the above example, we want the square, so `num*num` will be first. (You could of course also do `num**2`.) Then, we fill in the rest with what we're looping over (i.e., the first part of the traditional loop). \n",
    "\n",
    "Note that it doesn't matter what you call the iterator. We could have easily have written the following as well:\n",
    "\n",
    "```Python \n",
    "numbers = [1, 2, 3, 4, 5]\n",
    "\n",
    "squares = [i*i for i in numbers]\n",
    "```\n",
    "\n",
    "### List Comprehensions: Conditional logic\n",
    "\n",
    "Imagine you have a list of strings and you want to filter out some words. We will call this list `tokens` and the words to remove `filter_words`. \n",
    "\n",
    "```Python\n",
    "tokens = ['I', 'want', 'to', 'file', 'a', 'claim']\n",
    "filter_words = ['I', 'to', 'a']\n",
    "```\n",
    "\n",
    "Using a traditional loop:\n",
    "\n",
    "```Python\n",
    "clean_tokens = []\n",
    "for token in tokens:\n",
    "    if token not in filter_words:\n",
    "        clean_tokens.append(token)\n",
    "```\n",
    "\n",
    "Using a list comprehension:\n",
    "\n",
    "```Python\n",
    "clean_tokens = [token for token in tokens if token not in filter_words]\n",
    "```\n",
    "\n",
    "Notice that the condition goes at the **end** of the line.\n",
    "\n",
    "### List Comprehensions: Nested Loops\n",
    "\n",
    "Let's extend the previous example by imagining we have a list of tokenized documents and we still want to remove any `filter_words` in them.\n",
    "\n",
    "```Python\n",
    "docs = [['I', 'want', 'to', 'file', 'a', 'claim'], \n",
    "        ['speak', 'to', 'a', 'representative']]\n",
    "\n",
    "filter_words = ['I', 'to', 'a']\n",
    "```\n",
    "Note that we are now working with a **list of lists**. To remove the `filter_words` with a traditional loop:\n",
    "\n",
    "```Python\n",
    "clean_docs = []\n",
    "for doc in docs:\n",
    "    for token in doc:\n",
    "        if token not in filter_words:\n",
    "            clean_docs.append(token)\n",
    "```\n",
    "\n",
    "Using a list comprehension:\n",
    "\n",
    "```Python\n",
    "clean_docs = [[token for token in doc if token not in filter_words] for doc in docs]\n",
    "```\n",
    "\n",
    "Note that if you have a nested loop in your list comprehension, then you will need **two layers of brackets** `[[]]`."
   ]
  },
  {
   "cell_type": "markdown",
   "metadata": {},
   "source": [
    "## Functions: Overview\n",
    "\n",
    "In order for our app to dynamically react to different user inputs, we need to have a solid understanding of functions. Every time there is reactivity in a dash app, there will be a function running behind the scenes.\n",
    "\n",
    "## Functions: Docstrings\n",
    "First off, it is good practice to write a docstring for all functions that span more than a few lines. A docstring is a description written at the beginning of a function that is designated with triple quotes `''' '''`. It describes what the function does and lists the arguments that are passed into the function. \n",
    "\n",
    "Here is an example:\n",
    "```Python\n",
    "def squares(lst):\n",
    "    '''\n",
    "    Loops through a list of numbers and returns the square of each number.\n",
    "    \n",
    "    Arguments:\n",
    "        lst: list of numbers\n",
    "        \n",
    "    Returns:\n",
    "        squares: list of the square of each number.\n",
    "    '''\n",
    "    \n",
    "    squares = [num*num for num in lst]\n",
    "    \n",
    "    return(squares)\n",
    "```\n",
    "\n",
    "## Functions: return()\n",
    "\n",
    "Your functions won't give you the result you want if you don't use `return()` at the end. You always want to have `return` at the end of your functions, unless your function is just for printing off things with `print()`.\n",
    "\n",
    "An example of a function without `return` and just `print`:\n",
    "\n",
    "```Python\n",
    "def view_topics(topic_lst): \n",
    "    for topic in topic_lst:\n",
    "        print(topic)\n",
    "```\n",
    "\n",
    "If you want the value of your function to be stored in a variable you can use later in your script, call your function while assigning it to a variable.\n",
    "\n",
    "```Python\n",
    "def random_normal_numbers(sample_size):\n",
    "    import numpy as np\n",
    "    \n",
    "    numbers = np.random.normal(0, 1, sample_size)\n",
    "    \n",
    "    return(numbers)\n",
    "\n",
    "numbers = random_normal_numbers(sample_size = 5)\n",
    "```"
   ]
  },
  {
   "cell_type": "code",
   "execution_count": null,
   "metadata": {},
   "outputs": [],
   "source": [
    "def random_normal_numbers(sample_size):\n",
    "    import numpy as np\n",
    "    \n",
    "    numbers = np.random.normal(0, 1, sample_size)\n",
    "    \n",
    "    return(numbers)\n",
    "\n",
    "x = random_normal_numbers(sample_size = 5)"
   ]
  },
  {
   "cell_type": "markdown",
   "metadata": {},
   "source": [
    "## Functions: Returning multiple outputs and Unpacking\n",
    "\n",
    "You can return multiple outputs from a single function by including all of them in your `return()` line. For example:\n",
    "\n",
    "```Python\n",
    "def random_normal_numbers(sample_size):\n",
    "    import numpy as np\n",
    "\n",
    "    numbers = np.random.normal(0, 1, sample_size)\n",
    "    \n",
    "    avg = np.mean(numbers)\n",
    "\n",
    "    return(numbers, avg)\n",
    "\n",
    "numbers = random_normal_numbers(sample_size = 5)\n",
    "\n",
    "```\n",
    "\n",
    "Since we are returning two outputs in the above function, the output will be a tuple in the form `(numbers, avg)`. This tuple will be assigned to `numbers`. \n",
    "\n",
    "We can **unpack** these numbers in two ways. One way to do it inefficiently is the following:\n",
    "\n",
    "```Python\n",
    "numbers = random_normal_numbers(sample_size = 5)\n",
    "\n",
    "numbers = numbers[0]\n",
    "avg = numbers[1]\n",
    "```\n",
    "\n",
    "The other way to accomplish the same thing in one line of code is as follows:\n",
    "\n",
    "```Python\n",
    "numbers, avg = random_normal_numbers(sample_size = 5)\n",
    "```"
   ]
  },
  {
   "cell_type": "code",
   "execution_count": null,
   "metadata": {},
   "outputs": [],
   "source": [
    "def random_normal_numbers(sample_size):\n",
    "    import numpy as np\n",
    "\n",
    "    numbers = np.random.normal(0, 1, sample_size)\n",
    "    \n",
    "    avg = np.mean(numbers)\n",
    "\n",
    "    return(numbers, avg)\n",
    "\n",
    "random_normal_numbers(sample_size = 5)"
   ]
  },
  {
   "cell_type": "markdown",
   "metadata": {},
   "source": [
    "## Slicing lists\n",
    "\n",
    "Slicing lists occurs in the following form: `[start:stop:step]`\n",
    "\n",
    "```Python\n",
    "numbers = [i for i in range(10)]\n",
    "```\n",
    "\n",
    "To access the even numbers of this list:\n",
    "\n",
    "```Python\n",
    "print(numbers[::2])\n",
    "```\n",
    "\n",
    "Note that because we didn't specify a `start` or `stop` element, Python defaults to starting at the beginning and stopping at the end. \n",
    "\n",
    "To access the odd numbers of the list:\n",
    "\n",
    "```Python\n",
    "print(numbers[1::2])\n",
    "```\n",
    "\n",
    "If we wanted to be redundant, we could even access all the elements of the list with slices:\n",
    "\n",
    "```Python\n",
    "print(numbers[::])\n",
    "```"
   ]
  },
  {
   "cell_type": "code",
   "execution_count": null,
   "metadata": {},
   "outputs": [],
   "source": [
    "numbers = [i for i in range(10)]\n",
    "print(numbers)\n",
    "print(numbers[::])\n",
    "print(numbers[::2]) # step by 2\n",
    "print(numbers[1::2]) # begin at 2nd number and step by 2\n",
    "print(numbers[1::]) # begin at 1st number (and step by 1)\n",
    "\n",
    "print(numbers[:-1:])\n",
    "print(numbers[-4:-2:])\n",
    "print(numbers[6:-2:])"
   ]
  },
  {
   "cell_type": "code",
   "execution_count": null,
   "metadata": {},
   "outputs": [],
   "source": [
    "print(numbers[:-1:])\n",
    "print(numbers[6:-2:])"
   ]
  },
  {
   "cell_type": "code",
   "execution_count": null,
   "metadata": {},
   "outputs": [],
   "source": [
    "print(numbers[::-2])\n",
    "print(numbers[::-1])\n",
    "print(numbers[6::-1])\n",
    "print(numbers[:6:-1])"
   ]
  },
  {
   "cell_type": "code",
   "execution_count": null,
   "metadata": {},
   "outputs": [],
   "source": [
    "print(numbers[6:2:-1]) # begin at 6th element, and go backwards to the 2nd element"
   ]
  },
  {
   "cell_type": "markdown",
   "metadata": {},
   "source": [
    "## Formatting strings"
   ]
  },
  {
   "cell_type": "code",
   "execution_count": null,
   "metadata": {},
   "outputs": [],
   "source": [
    "names = ['Rappa', 'SEW', 'Kate', 'Tony', 'Brandon']\n",
    "\n",
    "for name in names:\n",
    "    print('{} works at the Institute for Advanced Analytics. That is cool!\\n'.format(name))   "
   ]
  },
  {
   "cell_type": "markdown",
   "metadata": {},
   "source": [
    "## Using `dir()` to figure out what attributes and methods you can access from an object"
   ]
  },
  {
   "cell_type": "code",
   "execution_count": null,
   "metadata": {
    "scrolled": true
   },
   "outputs": [],
   "source": [
    "dir(names)"
   ]
  },
  {
   "cell_type": "code",
   "execution_count": null,
   "metadata": {},
   "outputs": [],
   "source": [
    "help(names)"
   ]
  }
 ],
 "metadata": {
  "kernelspec": {
   "display_name": "Python 3",
   "language": "python",
   "name": "python3"
  },
  "language_info": {
   "codemirror_mode": {
    "name": "ipython",
    "version": 3
   },
   "file_extension": ".py",
   "mimetype": "text/x-python",
   "name": "python",
   "nbconvert_exporter": "python",
   "pygments_lexer": "ipython3",
   "version": "3.7.6"
  },
  "toc": {
   "base_numbering": 1,
   "nav_menu": {},
   "number_sections": false,
   "sideBar": true,
   "skip_h1_title": false,
   "title_cell": "Table of Contents",
   "title_sidebar": "Contents",
   "toc_cell": false,
   "toc_position": {
    "height": "calc(100% - 180px)",
    "left": "10px",
    "top": "150px",
    "width": "384px"
   },
   "toc_section_display": true,
   "toc_window_display": false
  }
 },
 "nbformat": 4,
 "nbformat_minor": 4
}
